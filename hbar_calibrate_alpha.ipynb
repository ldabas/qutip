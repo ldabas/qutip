{
 "cells": [
  {
   "cell_type": "code",
   "execution_count": 1,
   "metadata": {},
   "outputs": [],
   "source": [
    "#import packages\r\n",
    "\r\n",
    "from copy import deepcopy\r\n",
    "import enum\r\n",
    "from qutip.tensor import tensor\r\n",
    "from re import T\r\n",
    "from numpy.core.function_base import linspace\r\n",
    "import scipy\r\n",
    "from scipy.ndimage.measurements import label\r\n",
    "from scipy.sparse import data\r\n",
    "from qutip.visualization import plot_fock_distribution\r\n",
    "from qutip.states import coherent, fock, ket2dm\r\n",
    "import hbar_compiler\r\n",
    "import hbar_processor\r\n",
    "import hbar_simulation_class\r\n",
    "import hbar_fitting\r\n",
    "import numpy as np\r\n",
    "import matplotlib.pyplot as plt\r\n",
    "from importlib import reload\r\n",
    "from qutip.qip.circuit import Measurement, QubitCircuit\r\n",
    "import qutip as qt\r\n",
    "from qutip import basis\r\n",
    "%matplotlib qt"
   ]
  },
  {
   "cell_type": "markdown",
   "metadata": {},
   "source": [
    "define the system"
   ]
  },
  {
   "cell_type": "code",
   "execution_count": 4,
   "metadata": {},
   "outputs": [],
   "source": [
    "\r\n",
    "reload(hbar_compiler)\r\n",
    "reload(hbar_processor)\r\n",
    "reload(hbar_simulation_class)\r\n",
    "reload(hbar_fitting)\r\n",
    "#qubit dimission, we only consider g and e states here\r\n",
    "qubit_dim=2\r\n",
    "#phonon dimission\r\n",
    "phonon_dim=15\r\n",
    "#how many phonon modes we consider here\r\n",
    "phonon_num=1\r\n",
    "#the frequency difference between qubit and phonon (qubit minus phonon)\r\n",
    "qubit_freq=5970.04\r\n",
    "phonon_freq=5974.115\r\n",
    "interaction_1_freq=5972.2\r\n",
    "interaction_3_freq=5972.96\r\n",
    "qubit_phonon_detuning=qubit_freq-phonon_freq\r\n",
    "\r\n",
    "#dimission of the system, qubit dimission + phonons dimission\r\n",
    "dims=[qubit_dim]+[phonon_dim]*phonon_num\r\n",
    "#T1 T2 we use the number for the interaction point 1\r\n",
    "t1=[13.1]+[81]*(phonon_num)\r\n",
    "t2=[10.1]+[134]*(phonon_num)\r\n",
    "#pi time list for different fock state\r\n",
    "pi_time_list=[0.9616123677058709,\r\n",
    " 0.679329038657111,\r\n",
    " 0.5548147810734809,\r\n",
    " 0.48027408123596266]\r\n",
    "#set up the processor and compiler,qb5d97 is the qubit we play around\r\n",
    "qb_processor=hbar_processor.HBAR_processor((phonon_num+1),t1,t2,dims,g=[0.26],\\\r\n",
    "    rest_place=qubit_phonon_detuning,FSR=13)\r\n",
    "\r\n",
    "qb_compiler = hbar_compiler.HBAR_Compiler(qb_processor.num_qubits,\\\r\n",
    "    qb_processor.params, qb_processor.pulse_dict)\r\n",
    "\r\n",
    "qb_simulation=hbar_simulation_class.Simulation(qb_processor,qb_compiler)\r\n",
    "qb_simulation.swap_time_list=pi_time_list"
   ]
  },
  {
   "cell_type": "markdown",
   "metadata": {},
   "source": [
    "calibrate probe amplitude for qubit spec"
   ]
  },
  {
   "cell_type": "code",
   "execution_count": null,
   "metadata": {},
   "outputs": [],
   "source": [
    "param_probe={'Omega':0.015,\r\n",
    "    'sigma': 0.5,\r\n",
    "    'duration':15,\r\n",
    "    'amplitude_starkshift':0}\r\n",
    "\r\n",
    "y_list=[]\r\n",
    "sweep_list=np.linspace(0.005,0.04,10)\r\n",
    "for sweep_data in sweep_list:\r\n",
    "    param_probe['Omega']=sweep_data\r\n",
    "    param_probe['duration']=15\r\n",
    "    qb_simulation.ideal_phonon_fock(0)\r\n",
    "    param_probe['amplitude_starkshift']=interaction_3_freq-qubit_freq\r\n",
    "    qb_simulation.detuning_list=np.linspace(\r\n",
    "        param_probe['amplitude_starkshift']-0.2,\r\n",
    "        param_probe['amplitude_starkshift']+0.2,41)\r\n",
    "    qb_simulation.spec_measurement(param_probe)\r\n",
    "    y_list.append(qb_simulation.y_array)\r\n",
    "\r\n",
    "figure,ax = plt.subplots(figsize=(8,6))\r\n",
    "for i,sweep_data in enumerate(sweep_list):\r\n",
    "    ax.plot(qb_simulation.detuning_list ,y_list[i],label='probe omega={}MHz'.format(sweep_data))\r\n",
    "figure.legend()\r\n",
    "figure.show()"
   ]
  },
  {
   "cell_type": "markdown",
   "metadata": {},
   "source": [
    "simulation for different phonon drive amplitude and fit it"
   ]
  },
  {
   "cell_type": "code",
   "execution_count": 6,
   "metadata": {},
   "outputs": [
    {
     "name": "stderr",
     "output_type": "stream",
     "text": [
      "  0%|          | 0/201 [00:00<?, ?it/s]"
     ]
    },
    {
     "name": "stdout",
     "output_type": "stream",
     "text": [
      "alpha is (0.3000000000000007-0.1999999999999993j), fidelity is 0.9969105183882101\n"
     ]
    },
    {
     "name": "stderr",
     "output_type": "stream",
     "text": [
      "100%|██████████| 201/201 [05:02<00:00,  1.51s/it]\n"
     ]
    },
    {
     "name": "stdout",
     "output_type": "stream",
     "text": [
      "len(y): 201\n",
      "alpha = 0.32\n",
      "alpha_err =0.002\n"
     ]
    },
    {
     "name": "stderr",
     "output_type": "stream",
     "text": [
      "  0%|          | 0/201 [00:00<?, ?it/s]"
     ]
    },
    {
     "name": "stdout",
     "output_type": "stream",
     "text": [
      "alpha is (0.6000000000000014-0.29999999999999893j), fidelity is 0.9951536575106694\n"
     ]
    },
    {
     "name": "stderr",
     "output_type": "stream",
     "text": [
      "100%|██████████| 201/201 [05:38<00:00,  1.68s/it]\n"
     ]
    },
    {
     "name": "stdout",
     "output_type": "stream",
     "text": [
      "len(y): 201\n",
      "alpha = 0.59\n",
      "alpha_err =0.002\n"
     ]
    },
    {
     "name": "stderr",
     "output_type": "stream",
     "text": [
      "  0%|          | 0/201 [00:00<?, ?it/s]"
     ]
    },
    {
     "name": "stdout",
     "output_type": "stream",
     "text": [
      "alpha is (0.9000000000000004-0.5j), fidelity is 0.9867104886825792\n"
     ]
    },
    {
     "name": "stderr",
     "output_type": "stream",
     "text": [
      "100%|██████████| 201/201 [10:28<00:00,  3.13s/it]\n"
     ]
    },
    {
     "name": "stdout",
     "output_type": "stream",
     "text": [
      "len(y): 201\n",
      "alpha = 0.86\n",
      "alpha_err =0.006\n"
     ]
    },
    {
     "name": "stderr",
     "output_type": "stream",
     "text": [
      "  0%|          | 0/201 [00:00<?, ?it/s]"
     ]
    },
    {
     "name": "stdout",
     "output_type": "stream",
     "text": [
      "alpha is (1.200000000000001-0.5999999999999996j), fidelity is 0.9786306264125537\n"
     ]
    },
    {
     "name": "stderr",
     "output_type": "stream",
     "text": [
      "100%|██████████| 201/201 [09:33<00:00,  2.85s/it]\n"
     ]
    },
    {
     "name": "stdout",
     "output_type": "stream",
     "text": [
      "len(y): 201\n",
      "alpha = 1.15\n",
      "alpha_err =0.029\n"
     ]
    },
    {
     "name": "stderr",
     "output_type": "stream",
     "text": [
      "  0%|          | 0/201 [00:00<?, ?it/s]"
     ]
    },
    {
     "name": "stdout",
     "output_type": "stream",
     "text": [
      "alpha is (1.5-0.6999999999999993j), fidelity is 0.9646771583179233\n"
     ]
    },
    {
     "name": "stderr",
     "output_type": "stream",
     "text": [
      "100%|██████████| 201/201 [08:39<00:00,  2.59s/it]\n"
     ]
    },
    {
     "name": "stdout",
     "output_type": "stream",
     "text": [
      "len(y): 201\n",
      "alpha = 1.44\n",
      "alpha_err =0.051\n"
     ]
    },
    {
     "name": "stderr",
     "output_type": "stream",
     "text": [
      "c:\\Users\\yangy\\Documents\\GitHub\\qutip_main\\qutip\\visualization.py:963: RuntimeWarning: More than 20 figures have been opened. Figures created through the pyplot interface (`matplotlib.pyplot.figure`) are retained until explicitly closed and may consume too much memory. (To control this warning, see the rcParam `figure.max_open_warning`).\n",
      "  fig, axes = plt.subplots(1, 2, figsize=figsize)\n",
      "  0%|          | 0/201 [00:00<?, ?it/s]"
     ]
    },
    {
     "name": "stdout",
     "output_type": "stream",
     "text": [
      "alpha is (1.8000000000000007-0.9000000000000004j), fidelity is 0.949357168652671\n"
     ]
    },
    {
     "name": "stderr",
     "output_type": "stream",
     "text": [
      "100%|██████████| 201/201 [07:35<00:00,  2.27s/it]\n"
     ]
    },
    {
     "name": "stdout",
     "output_type": "stream",
     "text": [
      "len(y): 201\n",
      "alpha = 1.71\n",
      "alpha_err =0.069\n"
     ]
    }
   ],
   "source": [
    "param_probe={'Omega':0.017,\r\n",
    "    'sigma': 0.5,\r\n",
    "    'duration':15,\r\n",
    "    'amplitude_starkshift':0}\r\n",
    "param_drive={'Omega':0.2,\r\n",
    "    'sigma':0.5,\r\n",
    "    'duration':10,\r\n",
    "    'rotate_direction':0,\r\n",
    "    'detuning':-qubit_phonon_detuning\r\n",
    "    }\r\n",
    "density_matrix_alpha_list=[]\r\n",
    "fit_alpha_list=[]\r\n",
    "peak_position=[]\r\n",
    "yarray_list=[]\r\n",
    "\r\n",
    "for i in range(10):\r\n",
    "    peak_position.append(2.849-0.096*i)\r\n",
    "\r\n",
    "for n,drive_amplitude in enumerate(np.linspace(0.1,0.6,6)):\r\n",
    "    param_drive['Omega']=drive_amplitude\r\n",
    "    qb_simulation.generate_coherent_state(param_drive)\r\n",
    "    qb_simulation.fit_wigner()\r\n",
    "    density_matrix_alpha_list.append(qb_simulation.alpha)\r\n",
    "    #mixed the initial state of the qubit\r\n",
    "    qubit_state=qb_simulation.initial_state.ptrace(0)\r\n",
    "    phonon_state=qb_simulation.initial_state.ptrace(1)\r\n",
    "    def keep_diag(dm):\r\n",
    "        dim=dm.dims[0][0]\r\n",
    "        for i in range(dim):\r\n",
    "            projector=qt.ket2dm(fock(dim,i)) \r\n",
    "            if i==0:\r\n",
    "                result=projector*phonon_state*projector\r\n",
    "            else:\r\n",
    "                result=result+projector*phonon_state*projector\r\n",
    "        return result\r\n",
    "    phonon_state=keep_diag(phonon_state)\r\n",
    "    qb_simulation.initial_state=qt.tensor(qubit_state,phonon_state)\r\n",
    "    param_probe['amplitude_starkshift']=interaction_3_freq-qubit_freq\r\n",
    "    qb_simulation.detuning_list=np.linspace(\r\n",
    "        param_probe['amplitude_starkshift']-1,\r\n",
    "        param_probe['amplitude_starkshift']+0.2,201)\r\n",
    "    qb_simulation.spec_measurement(param_probe)\r\n",
    "    yarray_list.append(qb_simulation.y_array)\r\n",
    "    result=qb_simulation.fitter.sum_lorentz_fit(peak_position,2+int(n*1.2))\r\n",
    "    fit_alpha_list.append(result[-1])"
   ]
  },
  {
   "cell_type": "code",
   "execution_count": 39,
   "metadata": {},
   "outputs": [],
   "source": [
    "fontsize=10\r\n",
    "density_matrix_alpha_list=np.array(density_matrix_alpha_list)\r\n",
    "density_matrix_alpha_list=np.abs(density_matrix_alpha_list)\r\n",
    "cm = 1/2.54\r\n",
    "fig,ax=plt.subplots(figsize = (11*cm, 11*cm))\r\n",
    "ax.plot(density_matrix_alpha_list,fit_alpha_list,'.')\r\n",
    "ax.plot(density_matrix_alpha_list,linear_result[0]*density_matrix_alpha_list+linear_result[1])\r\n",
    "ax.set_xlabel('Prepared alpha',fontsize=fontsize)\r\n",
    "linear_result=np.polyfit(density_matrix_alpha_list,fit_alpha_list,1)\r\n",
    "ax.set_ylabel('Poisson fitted alpha',fontsize=fontsize)\r\n",
    "\r\n",
    "ax.set_xticks([0.5,1,1.5,2])\r\n",
    "ax.set_xticklabels([0.5,1,1.5,2])\r\n",
    "ax.set_yticks([0.5,1,1.5,2])\r\n",
    "ax.set_yticklabels([0.5,1,1.5,2])\r\n",
    "fig.gca().set_aspect('equal', adjustable='box')\r\n",
    "fig.show()\r\n",
    "fig.savefig('fig_calibration_phonon_drive.pdf', transparent=True)"
   ]
  },
  {
   "cell_type": "code",
   "execution_count": null,
   "metadata": {},
   "outputs": [],
   "source": [
    "fig.show()"
   ]
  },
  {
   "cell_type": "code",
   "execution_count": 12,
   "metadata": {},
   "outputs": [
    {
     "name": "stdout",
     "output_type": "stream",
     "text": [
      "[0.36055513 0.67082039 1.02956301 1.34164079 1.65529454 2.01246118]\n",
      "[0.3177733812239355, 0.593011128961417, 0.8591320466167945, 1.1488854900848666, 1.4420445900338446, 1.7098127276647852]\n"
     ]
    },
    {
     "data": {
      "text/plain": [
       "array([0.84947709, 0.01076195])"
      ]
     },
     "execution_count": 12,
     "metadata": {},
     "output_type": "execute_result"
    }
   ],
   "source": [
    "print(density_matrix_alpha_list)\r\n",
    "print(fit_alpha_list)\r\n",
    "linear_result"
   ]
  },
  {
   "cell_type": "code",
   "execution_count": 16,
   "metadata": {},
   "outputs": [],
   "source": [
    "np.save('simulated_data//coherent_state_NS.npy',yarray_list)"
   ]
  }
 ],
 "metadata": {
  "interpreter": {
   "hash": "4f04cc16a4ab2f3c48e56678a6b586496379c4763eca4ad96b15c6edc0b0dba8"
  },
  "kernelspec": {
   "display_name": "Python 3.8.5 64-bit ('base': conda)",
   "name": "python3"
  },
  "language_info": {
   "codemirror_mode": {
    "name": "ipython",
    "version": 3
   },
   "file_extension": ".py",
   "mimetype": "text/x-python",
   "name": "python",
   "nbconvert_exporter": "python",
   "pygments_lexer": "ipython3",
   "version": "3.8.5"
  },
  "orig_nbformat": 4
 },
 "nbformat": 4,
 "nbformat_minor": 2
}